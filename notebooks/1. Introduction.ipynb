{
 "cells": [
  {
   "cell_type": "markdown",
   "id": "261d5b45",
   "metadata": {},
   "source": [
    "## Python - Introduction\n",
    "\n",
    "\n",
    "- a general-purpose **interpreted**, object-oriented, and high-level programming language.\n",
    "- supports functional as well as Object Oriented Programming\n",
    "- provides very high-level dynamic data types\n",
    "- supports dynamic type checking\n",
    "- supports automatic garbage collection\n",
    "- can be used as scripting language"
   ]
  },
  {
   "cell_type": "markdown",
   "id": "8cd42734",
   "metadata": {},
   "source": [
    "#### What can Python do?\n",
    "\n",
    "- Python can be used on a server to create web applications.\n",
    "- Python can be used alongside software to create workflows.\n",
    "- Python can connect to database systems. It can also read and modify files.\n",
    "- Python can be used to handle big data and perform complex mathematics.\n",
    "- Python can be used for rapid prototyping, or for production-ready software development."
   ]
  },
  {
   "cell_type": "markdown",
   "id": "4531b423",
   "metadata": {},
   "source": [
    "#### Hello World using Python"
   ]
  },
  {
   "cell_type": "code",
   "execution_count": 1,
   "id": "fb9b5afa",
   "metadata": {},
   "outputs": [
    {
     "name": "stdout",
     "output_type": "stream",
     "text": [
      "Hello World\n"
     ]
    }
   ],
   "source": [
    "print(\"Hello World\")"
   ]
  },
  {
   "cell_type": "markdown",
   "id": "4d56bf23",
   "metadata": {},
   "source": [
    "#### Different modes of programming.\n",
    "\n",
    "1. Interactive Mode Programming\n",
    "   Directly invoking the interpreter without passing a script file as a parameter brings up the REPL.\n",
    "<br>\n",
    "\n",
    "2. Script Mode Programming\n",
    "    Invoking the interpreter with a script parameter begins execution of the script and continues until the script is finished. When the script is finished, the interpreter is no longer active."
   ]
  },
  {
   "cell_type": "markdown",
   "id": "57dfa58a",
   "metadata": {},
   "source": [
    "#### Python Indentation\n",
    "\n",
    "Indentation refers to the spaces at the beginning of a code line. <br>\n",
    "Where in other programming languages the indentation in code is for readability only, the indentation in Python is very important. <br>\n",
    "Python uses indentation to indicate a block of code."
   ]
  },
  {
   "cell_type": "code",
   "execution_count": 2,
   "id": "3935b837",
   "metadata": {},
   "outputs": [
    {
     "name": "stdout",
     "output_type": "stream",
     "text": [
      "Five is greater than two!\n"
     ]
    }
   ],
   "source": [
    "#Example\n",
    "#Here 4 spaces before print indicate that it is a part of if block\n",
    "if 5 > 2:\n",
    "    print(\"Five is greater than two!\")"
   ]
  },
  {
   "cell_type": "markdown",
   "id": "b5a4e829",
   "metadata": {},
   "source": [
    "#### Python Comments\n",
    "\n",
    "Comments are parts of code which are not executed. <br>\n",
    "Comments can be used to explain Python code and make the code more readable.<br>\n",
    "Python comments can be:\n",
    "- single line comment: Using the character `#`\n",
    "- multi-line comment: Using characters `''' '''`"
   ]
  },
  {
   "cell_type": "code",
   "execution_count": 3,
   "id": "519fa601",
   "metadata": {},
   "outputs": [
    {
     "name": "stdout",
     "output_type": "stream",
     "text": [
      "10\n",
      "4\n"
     ]
    }
   ],
   "source": [
    "#Example - This is a single line comment\n",
    "\n",
    "print(5+5)\n",
    "\n",
    "'''\n",
    "This is a multi-line comment\n",
    "We can add many lines\n",
    "'''\n",
    "\n",
    "print(2+2)"
   ]
  },
  {
   "cell_type": "markdown",
   "id": "2bad40fd",
   "metadata": {},
   "source": [
    "## Python Variables\n",
    "\n",
    "Variables are containers for storing data values. <br>\n",
    "In Python, variables are created when you assign a value to it. Variable type is infered automatically. <br>\n",
    "Python has no command for declaring a variable, but you can get the data type of a variable with the `type()` function."
   ]
  },
  {
   "cell_type": "code",
   "execution_count": 4,
   "id": "4d2928f6",
   "metadata": {},
   "outputs": [
    {
     "name": "stdout",
     "output_type": "stream",
     "text": [
      "5 <class 'int'>\n",
      "Hello, World! <class 'str'>\n"
     ]
    }
   ],
   "source": [
    "#Example - Variables in Python:\n",
    "x = 5\n",
    "y = \"Hello, World!\"\n",
    "\n",
    "print(x, type(x))\n",
    "print(y, type(y))"
   ]
  },
  {
   "cell_type": "code",
   "execution_count": 5,
   "id": "f9c4e5b6",
   "metadata": {},
   "outputs": [
    {
     "name": "stdout",
     "output_type": "stream",
     "text": [
      "4 <class 'int'>\n",
      "Sally <class 'str'>\n"
     ]
    }
   ],
   "source": [
    "# Variables do not need to be declared with any particular type,\n",
    "# and can even change type after they have been set.\n",
    "\n",
    "x = 4            # x is of type int\n",
    "print(x, type(x))\n",
    "\n",
    "x = \"Sally\"      # x is now of type str\n",
    "print(x, type(x))"
   ]
  },
  {
   "cell_type": "markdown",
   "id": "021e21db",
   "metadata": {},
   "source": [
    "#### Variable Names\n",
    "A variable can have a short name (like x and y) or a more descriptive name (age, carname, total_volume). Rules for Python variables:\n",
    "- A variable name must start with a letter or the underscore character\n",
    "- A variable name cannot start with a number\n",
    "- A variable name can only contain alpha-numeric characters and underscores (A-z, 0-9, and _ )\n",
    "- Variable names are case-sensitive (age, Age and AGE are three different variables)"
   ]
  },
  {
   "cell_type": "code",
   "execution_count": 6,
   "id": "efc8b4f3",
   "metadata": {},
   "outputs": [],
   "source": [
    "#Legal Variable Names\n",
    "\n",
    "myvar = \"John\"\n",
    "my_var = \"John\"\n",
    "_my_var = \"John\"\n",
    "myVar = \"John\"\n",
    "MYVAR = \"John\"\n",
    "myvar2 = \"John\""
   ]
  },
  {
   "cell_type": "code",
   "execution_count": 7,
   "id": "3eef7676",
   "metadata": {},
   "outputs": [
    {
     "ename": "SyntaxError",
     "evalue": "invalid syntax (<ipython-input-7-c2710ddf7fe6>, line 3)",
     "output_type": "error",
     "traceback": [
      "\u001b[1;36m  File \u001b[1;32m\"<ipython-input-7-c2710ddf7fe6>\"\u001b[1;36m, line \u001b[1;32m3\u001b[0m\n\u001b[1;33m    2myvar = \"John\"\u001b[0m\n\u001b[1;37m     ^\u001b[0m\n\u001b[1;31mSyntaxError\u001b[0m\u001b[1;31m:\u001b[0m invalid syntax\n"
     ]
    }
   ],
   "source": [
    "# Illegal variable names\n",
    "\n",
    "2myvar = \"John\"\n",
    "my-var = \"John\"\n",
    "my var = \"John\""
   ]
  },
  {
   "cell_type": "code",
   "execution_count": 8,
   "id": "d134857d",
   "metadata": {},
   "outputs": [
    {
     "name": "stdout",
     "output_type": "stream",
     "text": [
      "4 Sally\n"
     ]
    }
   ],
   "source": [
    "#Example - This will create two variables:\n",
    "\n",
    "a = 4\n",
    "A = \"Sally\"\n",
    "\n",
    "print(a, A) #A will not overwrite a"
   ]
  },
  {
   "cell_type": "markdown",
   "id": "a44e3c3f",
   "metadata": {},
   "source": [
    "#### Casting\n",
    "\n",
    "If you want to specify the data type of a variable, this can be done with casting.\n",
    "<br>\n",
    "Python is an object-orientated language, and as such it uses classes to define data types, including its primitive types. <br>\n",
    "Casting in python is therefore done using constructor functions:\n",
    "\n",
    "- int() - constructs an integer number from an integer literal, a float literal (by removing all decimals), or a string literal (providing the string represents a whole number)\n",
    "- float() - constructs a float number from an integer literal, a float literal or a string literal (providing the string represents a float or an integer)\n",
    "- str() - constructs a string from a wide variety of data types, including strings, integer literals and float literals\n"
   ]
  },
  {
   "cell_type": "code",
   "execution_count": 9,
   "id": "ab8d0f1f",
   "metadata": {},
   "outputs": [
    {
     "name": "stdout",
     "output_type": "stream",
     "text": [
      "3 <class 'str'>\n",
      "3 <class 'int'>\n",
      "3.0 <class 'float'>\n"
     ]
    }
   ],
   "source": [
    "#Example\n",
    "x = str(3)    # x will be '3'\n",
    "y = int(3)    # y will be 3\n",
    "z = float(3)  # z will be 3.0 \n",
    "\n",
    "print(x, type(x))\n",
    "print(y, type(y))\n",
    "print(z, type(z))"
   ]
  },
  {
   "cell_type": "code",
   "execution_count": 10,
   "id": "6c7143f0",
   "metadata": {},
   "outputs": [
    {
     "name": "stdout",
     "output_type": "stream",
     "text": [
      "10\n",
      "10 <class 'str'>\n",
      "10 <class 'int'>\n"
     ]
    }
   ],
   "source": [
    "#Example\n",
    "a = input()  #This functions accepts user input as a String\n",
    "print(a, type(a))\n",
    "\n",
    "b = int(a)   #We convert the string to an integer if its valid\n",
    "print(b, type(b))"
   ]
  },
  {
   "cell_type": "code",
   "execution_count": null,
   "id": "8ab3c391",
   "metadata": {},
   "outputs": [],
   "source": []
  }
 ],
 "metadata": {
  "kernelspec": {
   "display_name": "Python 3",
   "language": "python",
   "name": "python3"
  },
  "language_info": {
   "codemirror_mode": {
    "name": "ipython",
    "version": 3
   },
   "file_extension": ".py",
   "mimetype": "text/x-python",
   "name": "python",
   "nbconvert_exporter": "python",
   "pygments_lexer": "ipython3",
   "version": "3.8.8"
  }
 },
 "nbformat": 4,
 "nbformat_minor": 5
}
