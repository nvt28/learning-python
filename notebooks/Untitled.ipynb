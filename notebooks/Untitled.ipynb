{
 "cells": [
  {
   "cell_type": "markdown",
   "id": "2435383e",
   "metadata": {},
   "source": [
    "# Agenda\n",
    "\n",
    "1. Python Basics<br>\n",
    "\n",
    "    a. Variables, Loops <br>\n",
    "    b. Functions <br>\n",
    "    c. Data Structures - List, Tuple, Dict, Set <br>\n",
    "\n",
    "\n",
    "2. Setup(Ubuntu) <br>\n",
    "    a. JuPyter Pycharm<br>\n",
    "    b. Anaconda<br>\n",
    "    c. Spark <br>\n",
    "    d. Handling multiple environments <br>\n",
    "\n",
    "\n",
    "3. Python Advanced\n",
    "4. Data Engineering Basics\n",
    "5. Spark\n",
    "6. Advanced Spark"
   ]
  },
  {
   "cell_type": "markdown",
   "id": "261d5b45",
   "metadata": {},
   "source": [
    "## Introduction\n",
    "\n",
    "**Python**\n",
    "- a general-purpose interpreted, object-oriented, and high-level programming language.\n",
    "- supports functional as well as OOP\n",
    "- can be used as scripting language"
   ]
  },
  {
   "cell_type": "markdown",
   "id": "1dcd6fee",
   "metadata": {},
   "source": [
    "### Data Types\n",
    "\n",
    "1. Text Type :      `str`\n",
    "2. Numeric Types :  `int`, `float`, `complex`\n",
    "3. Sequence Types : `list`, `tuple`, `range`\n",
    "4. Mapping Type:    `dict`\n",
    "5. Set Types :      `set`, `frozenset`\n",
    "6. Boolean Type :   `bool`\n",
    "7. Binary Types :   `bytes`, `bytearray`, `memoryview`"
   ]
  },
  {
   "cell_type": "code",
   "execution_count": 3,
   "id": "617b8de8",
   "metadata": {},
   "outputs": [
    {
     "name": "stdout",
     "output_type": "stream",
     "text": [
      "zzzzoooooooooooooooo\n",
      "4 16\n",
      "No\n"
     ]
    }
   ],
   "source": [
    "s = input()\n",
    "numz = s.count(\"z\")\n",
    "numo = s.count(\"o\")\n",
    "print(numz, numo)\n",
    "\n",
    "if 2*numz == numo:\n",
    "    print(\"Yes\")\n",
    "else:\n",
    "    print(\"No\")"
   ]
  },
  {
   "cell_type": "code",
   "execution_count": 9,
   "id": "0264544f",
   "metadata": {},
   "outputs": [],
   "source": [
    "numz = 0\n",
    "numo = 0\n",
    "for ch in s:\n",
    "    #print(num_p, ch)\n",
    "    if ch == 'z':\n",
    "        numz = numz + 1\n",
    "    if ch == 'o':\n",
    "        numo = numo + 1"
   ]
  },
  {
   "cell_type": "markdown",
   "id": "46ac965a",
   "metadata": {},
   "source": [
    "1 2 3 4\n",
    "1 2 3 4\n",
    "1 2 3 4\n",
    "1 2 3 4\n",
    "\n",
    "\n",
    "1 1 1 1\n",
    "2 2 2 2\n",
    "3 3 3 3\n",
    "4 4 4 4"
   ]
  },
  {
   "cell_type": "code",
   "execution_count": 15,
   "id": "6905fbcc",
   "metadata": {},
   "outputs": [
    {
     "name": "stdout",
     "output_type": "stream",
     "text": [
      "* * * * * * * * * * \n",
      "* * * * * * * * * * \n",
      "* * * * * * * * * * \n",
      "* * * * * * * * * * \n",
      "* * * * * * * * * * \n",
      "* * * * * * * * * * \n",
      "* * * * * * * * * * \n",
      "* * * * * * * * * * \n",
      "* * * * * * * * * * \n",
      "* * * * * * * * * * \n"
     ]
    }
   ],
   "source": [
    "n = 10\n",
    "for i in range(n):\n",
    "    for j in range(n):\n",
    "        print(\"*\", end = \" \")\n",
    "    print()"
   ]
  },
  {
   "cell_type": "code",
   "execution_count": 10,
   "id": "23694462",
   "metadata": {},
   "outputs": [
    {
     "data": {
      "text/plain": [
       "(16, 4)"
      ]
     },
     "execution_count": 10,
     "metadata": {},
     "output_type": "execute_result"
    }
   ],
   "source": [
    "numo, numz"
   ]
  },
  {
   "cell_type": "code",
   "execution_count": 4,
   "id": "5dc18698",
   "metadata": {},
   "outputs": [],
   "source": [
    "num = 1 + 2j"
   ]
  },
  {
   "cell_type": "code",
   "execution_count": 5,
   "id": "f755147b",
   "metadata": {},
   "outputs": [
    {
     "data": {
      "text/plain": [
       "complex"
      ]
     },
     "execution_count": 5,
     "metadata": {},
     "output_type": "execute_result"
    }
   ],
   "source": [
    "type(num)"
   ]
  },
  {
   "cell_type": "code",
   "execution_count": 6,
   "id": "0e4c46db",
   "metadata": {},
   "outputs": [],
   "source": [
    "l1 = [23, 24, 25]"
   ]
  },
  {
   "cell_type": "code",
   "execution_count": 7,
   "id": "f691fea9",
   "metadata": {},
   "outputs": [
    {
     "data": {
      "text/plain": [
       "[23, 24, 25]"
      ]
     },
     "execution_count": 7,
     "metadata": {},
     "output_type": "execute_result"
    }
   ],
   "source": [
    "l1"
   ]
  },
  {
   "cell_type": "code",
   "execution_count": 8,
   "id": "ed4c4b49",
   "metadata": {},
   "outputs": [],
   "source": [
    "l1.append(26)"
   ]
  },
  {
   "cell_type": "code",
   "execution_count": 9,
   "id": "dfd0f2b8",
   "metadata": {},
   "outputs": [
    {
     "data": {
      "text/plain": [
       "[23, 24, 25, 26]"
      ]
     },
     "execution_count": 9,
     "metadata": {},
     "output_type": "execute_result"
    }
   ],
   "source": [
    "l1"
   ]
  },
  {
   "cell_type": "code",
   "execution_count": 12,
   "id": "5296b04a",
   "metadata": {},
   "outputs": [],
   "source": [
    "l1.remove(24)"
   ]
  },
  {
   "cell_type": "code",
   "execution_count": 13,
   "id": "d611c4b7",
   "metadata": {},
   "outputs": [
    {
     "data": {
      "text/plain": [
       "[23, 25, 26]"
      ]
     },
     "execution_count": 13,
     "metadata": {},
     "output_type": "execute_result"
    }
   ],
   "source": [
    "l1"
   ]
  },
  {
   "cell_type": "code",
   "execution_count": 14,
   "id": "45bee269",
   "metadata": {},
   "outputs": [
    {
     "data": {
      "text/plain": [
       "26"
      ]
     },
     "execution_count": 14,
     "metadata": {},
     "output_type": "execute_result"
    }
   ],
   "source": [
    "l1.pop()"
   ]
  },
  {
   "cell_type": "code",
   "execution_count": 15,
   "id": "b160b61a",
   "metadata": {},
   "outputs": [
    {
     "data": {
      "text/plain": [
       "[23, 25]"
      ]
     },
     "execution_count": 15,
     "metadata": {},
     "output_type": "execute_result"
    }
   ],
   "source": [
    "l1"
   ]
  },
  {
   "cell_type": "code",
   "execution_count": 17,
   "id": "2bc20c9b",
   "metadata": {},
   "outputs": [
    {
     "data": {
      "text/plain": [
       "23"
      ]
     },
     "execution_count": 17,
     "metadata": {},
     "output_type": "execute_result"
    }
   ],
   "source": [
    "l1.pop(0)"
   ]
  },
  {
   "cell_type": "code",
   "execution_count": 18,
   "id": "82c1b917",
   "metadata": {},
   "outputs": [
    {
     "data": {
      "text/plain": [
       "[25]"
      ]
     },
     "execution_count": 18,
     "metadata": {},
     "output_type": "execute_result"
    }
   ],
   "source": [
    "l1"
   ]
  },
  {
   "cell_type": "code",
   "execution_count": 59,
   "id": "70734868",
   "metadata": {},
   "outputs": [],
   "source": [
    "#List of first 100 even numbers\n",
    "list_even = []"
   ]
  },
  {
   "cell_type": "code",
   "execution_count": 60,
   "id": "c61052b5",
   "metadata": {},
   "outputs": [
    {
     "name": "stdout",
     "output_type": "stream",
     "text": [
      "Value of i = 2, appending  2\n",
      "Value of i = 4, appending  4\n",
      "Value of i = 6, appending  6\n",
      "Value of i = 8, appending  8\n",
      "Value of i = 10, appending  10\n",
      "Value of i = 12, appending  12\n",
      "Value of i = 14, appending  14\n",
      "Value of i = 16, appending  16\n",
      "Value of i = 18, appending  18\n",
      "Value of i = 20, appending  20\n"
     ]
    }
   ],
   "source": [
    "for i in range(2, 21, 2):\n",
    "    print(f'Value of i = {i}, appending  {i}')\n",
    "    list_even.append(i)"
   ]
  },
  {
   "cell_type": "code",
   "execution_count": 2,
   "id": "174650d6",
   "metadata": {},
   "outputs": [
    {
     "name": "stdout",
     "output_type": "stream",
     "text": [
      "1\n",
      "3\n",
      "5\n",
      "7\n",
      "9\n",
      "11\n",
      "13\n",
      "15\n",
      "17\n",
      "19\n",
      "21\n",
      "23\n",
      "25\n",
      "27\n",
      "29\n"
     ]
    }
   ],
   "source": [
    "list_odd = []\n",
    "for i in range(1, 30):\n",
    "    if i%2 != 0:\n",
    "        print(i)\n",
    "        list_odd.append(i)"
   ]
  },
  {
   "cell_type": "code",
   "execution_count": 3,
   "id": "8927b9cd",
   "metadata": {},
   "outputs": [
    {
     "data": {
      "text/plain": [
       "[1, 3, 5, 7, 9, 11, 13, 15, 17, 19, 21, 23, 25, 27, 29]"
      ]
     },
     "execution_count": 3,
     "metadata": {},
     "output_type": "execute_result"
    }
   ],
   "source": [
    "list_odd"
   ]
  },
  {
   "cell_type": "code",
   "execution_count": 45,
   "id": "9f774d4e",
   "metadata": {},
   "outputs": [
    {
     "data": {
      "text/plain": [
       "range(0, 10)"
      ]
     },
     "execution_count": 45,
     "metadata": {},
     "output_type": "execute_result"
    }
   ],
   "source": [
    "range(10)"
   ]
  },
  {
   "cell_type": "code",
   "execution_count": 50,
   "id": "9857c41f",
   "metadata": {},
   "outputs": [
    {
     "data": {
      "text/plain": [
       "[5, 7, 9]"
      ]
     },
     "execution_count": 50,
     "metadata": {},
     "output_type": "execute_result"
    }
   ],
   "source": [
    "list(range(5, 10, 2))"
   ]
  },
  {
   "cell_type": "code",
   "execution_count": 73,
   "id": "f868e8a1",
   "metadata": {},
   "outputs": [],
   "source": [
    "list = [\"Vegetable\", \"Milk\", \"Chocolates\", \"Oil\", \"Milk\"]"
   ]
  },
  {
   "cell_type": "code",
   "execution_count": 82,
   "id": "3d8adc59",
   "metadata": {},
   "outputs": [
    {
     "name": "stdout",
     "output_type": "stream",
     "text": [
      "Added Vegetable to the cart\n",
      "Added Milk to the cart\n",
      "Added Chocolates to the cart\n",
      "Added Oil to the cart\n",
      "Added Milk to the cart\n"
     ]
    }
   ],
   "source": [
    "for item in list:\n",
    "    print(f\"Added {item} to the cart\")"
   ]
  },
  {
   "cell_type": "code",
   "execution_count": 56,
   "id": "0a857886",
   "metadata": {},
   "outputs": [],
   "source": [
    "dict1 = {}"
   ]
  },
  {
   "cell_type": "code",
   "execution_count": 70,
   "id": "6170854c",
   "metadata": {},
   "outputs": [],
   "source": [
    "dict1['Chocolates'] = 100"
   ]
  },
  {
   "cell_type": "code",
   "execution_count": 71,
   "id": "9a9b8618",
   "metadata": {},
   "outputs": [
    {
     "data": {
      "text/plain": [
       "{'Milk': 23, 'Vegetable': 50, 'Oil': 220, 'Chocolates': 100}"
      ]
     },
     "execution_count": 71,
     "metadata": {},
     "output_type": "execute_result"
    }
   ],
   "source": [
    "dict1"
   ]
  },
  {
   "cell_type": "code",
   "execution_count": 81,
   "id": "a61cd9db",
   "metadata": {},
   "outputs": [
    {
     "name": "stdout",
     "output_type": "stream",
     "text": [
      "Item in the list = Vegetable, price = 50\n",
      "Item in the list = Milk, price = 23\n",
      "Item in the list = Chocolates, price = 100\n",
      "Item in the list = Oil, price = 220\n",
      "Item in the list = Milk, price = 23\n"
     ]
    }
   ],
   "source": [
    "for item in list:\n",
    "    print(f\"Item in the list = {item}, price = {dict1[item]}\")"
   ]
  },
  {
   "cell_type": "code",
   "execution_count": 79,
   "id": "bf0edd53",
   "metadata": {},
   "outputs": [
    {
     "name": "stdout",
     "output_type": "stream",
     "text": [
      "5 x 1 = 5\n",
      "5 x 2 = 10\n",
      "5 x 3 = 15\n",
      "5 x 4 = 20\n",
      "5 x 5 = 25\n",
      "5 x 6 = 30\n",
      "5 x 7 = 35\n",
      "5 x 8 = 40\n",
      "5 x 9 = 45\n",
      "5 x 10 = 50\n"
     ]
    }
   ],
   "source": [
    "for i in range(1, 11):\n",
    "    print(f\"5 x {i} = {5*i}\")"
   ]
  },
  {
   "cell_type": "code",
   "execution_count": 95,
   "id": "c77a3ae3",
   "metadata": {},
   "outputs": [
    {
     "name": "stdout",
     "output_type": "stream",
     "text": [
      "Enter a temperature in celsius: 30.0\n"
     ]
    }
   ],
   "source": [
    "c = float(input(\"Enter a temperature in celsius: \"))"
   ]
  },
  {
   "cell_type": "code",
   "execution_count": 96,
   "id": "7fdb4098",
   "metadata": {},
   "outputs": [
    {
     "data": {
      "text/plain": [
       "float"
      ]
     },
     "execution_count": 96,
     "metadata": {},
     "output_type": "execute_result"
    }
   ],
   "source": [
    "type(c)"
   ]
  },
  {
   "cell_type": "code",
   "execution_count": 97,
   "id": "0dcaa710",
   "metadata": {},
   "outputs": [
    {
     "name": "stdout",
     "output_type": "stream",
     "text": [
      "30.0 Celsius is equal to 86.0 degree Fahrenheit\n"
     ]
    }
   ],
   "source": [
    "f = (c * 1.8) + 32\n",
    "print(f'{c} Celsius is equal to {f} degree Fahrenheit')  "
   ]
  },
  {
   "cell_type": "code",
   "execution_count": 108,
   "id": "e42a5da1",
   "metadata": {},
   "outputs": [],
   "source": [
    "s = \"elephant is going on a ride!!\""
   ]
  },
  {
   "cell_type": "code",
   "execution_count": 110,
   "id": "a0e92eaf",
   "metadata": {},
   "outputs": [],
   "source": [
    "v_list = []\n",
    "c_list = []\n",
    "for character in s:\n",
    "    if character == 'a' or character == 'i' or character == 'e' or character == 'o' or character == 'u':\n",
    "        v_list.append(character)\n",
    "    elif character == ' ' or character == '!' or character == '.':\n",
    "        pass\n",
    "    else:\n",
    "        c_list.append(character)"
   ]
  },
  {
   "cell_type": "code",
   "execution_count": 111,
   "id": "e6172a11",
   "metadata": {},
   "outputs": [
    {
     "data": {
      "text/plain": [
       "['l', 'p', 'h', 'n', 't', 's', 'g', 'n', 'g', 'n', 'r', 'd']"
      ]
     },
     "execution_count": 111,
     "metadata": {},
     "output_type": "execute_result"
    }
   ],
   "source": [
    "c_list"
   ]
  },
  {
   "cell_type": "code",
   "execution_count": null,
   "id": "bb9cbfe3",
   "metadata": {},
   "outputs": [],
   "source": [
    "if condition:\n",
    "    #statement\n",
    "elif condition:\n",
    "    #statement\n",
    "else:\n",
    "    #statement"
   ]
  },
  {
   "cell_type": "code",
   "execution_count": 6,
   "id": "70ffe2bc",
   "metadata": {},
   "outputs": [],
   "source": [
    "price_chart = {\"pen\" : 10, \"milk\": 40, \"vegetable\": 50, \"pulses\" : 130, \"oil\" : 190, \"chocolate\": 130}"
   ]
  },
  {
   "cell_type": "code",
   "execution_count": 7,
   "id": "f01c874b",
   "metadata": {},
   "outputs": [
    {
     "data": {
      "text/plain": [
       "{'pen': 10,\n",
       " 'milk': 40,\n",
       " 'vegetable': 50,\n",
       " 'pulses': 130,\n",
       " 'oil': 190,\n",
       " 'chocolate': 130}"
      ]
     },
     "execution_count": 7,
     "metadata": {},
     "output_type": "execute_result"
    }
   ],
   "source": [
    "price_chart"
   ]
  },
  {
   "cell_type": "code",
   "execution_count": 10,
   "id": "d1395f53",
   "metadata": {},
   "outputs": [],
   "source": [
    "ram_cart = [\"pen\", \"milk\", \"oil\"]\n",
    "shyam_cart = [\"vegetable\", \"pulses\", \"pen\", \"chocolate\"]"
   ]
  },
  {
   "cell_type": "code",
   "execution_count": 22,
   "id": "778837fe",
   "metadata": {},
   "outputs": [],
   "source": [
    "total_price_ram = 0\n",
    "total_price_shyam = 0"
   ]
  },
  {
   "cell_type": "code",
   "execution_count": 26,
   "id": "f4c6c558",
   "metadata": {},
   "outputs": [
    {
     "name": "stdout",
     "output_type": "stream",
     "text": [
      "Item is vegetable, its value is 50.\n",
      "Item is pulses, its value is 130.\n",
      "Item is pen, its value is 10.\n",
      "Item is chocolate, its value is 130.\n"
     ]
    }
   ],
   "source": [
    "for item in shyam_cart:\n",
    "    print(f'Item is {item}, its value is {price_chart[item]}.')\n",
    "    total_price_shyam = total_price_shyam + price_chart[item]"
   ]
  },
  {
   "cell_type": "code",
   "execution_count": 28,
   "id": "55425bed",
   "metadata": {},
   "outputs": [
    {
     "data": {
      "text/plain": [
       "320"
      ]
     },
     "execution_count": 28,
     "metadata": {},
     "output_type": "execute_result"
    }
   ],
   "source": [
    "total_price_shyam"
   ]
  },
  {
   "cell_type": "markdown",
   "id": "57b10967",
   "metadata": {},
   "source": [
    "### Tuples"
   ]
  },
  {
   "cell_type": "code",
   "execution_count": 29,
   "id": "d91055fe",
   "metadata": {},
   "outputs": [],
   "source": [
    "t1 = (1, 5)"
   ]
  },
  {
   "cell_type": "code",
   "execution_count": 47,
   "id": "ccd33e0d",
   "metadata": {},
   "outputs": [],
   "source": [
    "v1 = (1, -1, 2)"
   ]
  },
  {
   "cell_type": "code",
   "execution_count": 48,
   "id": "cfc09681",
   "metadata": {},
   "outputs": [],
   "source": [
    "v2 = (-2, 3, 5)"
   ]
  },
  {
   "cell_type": "code",
   "execution_count": 49,
   "id": "9465d0d8",
   "metadata": {},
   "outputs": [
    {
     "data": {
      "text/plain": [
       "(1, -1, 2)"
      ]
     },
     "execution_count": 49,
     "metadata": {},
     "output_type": "execute_result"
    }
   ],
   "source": [
    "v1"
   ]
  },
  {
   "cell_type": "code",
   "execution_count": 50,
   "id": "07268f36",
   "metadata": {},
   "outputs": [
    {
     "name": "stdout",
     "output_type": "stream",
     "text": [
      "0\n",
      "1\n",
      "2\n"
     ]
    }
   ],
   "source": [
    "dot_product = 0\n",
    "for i in range(3):\n",
    "    print(i)\n",
    "    dot_product = dot_product + v1[i]*v2[i]"
   ]
  },
  {
   "cell_type": "code",
   "execution_count": 51,
   "id": "181dae47",
   "metadata": {},
   "outputs": [
    {
     "data": {
      "text/plain": [
       "tuple"
      ]
     },
     "execution_count": 51,
     "metadata": {},
     "output_type": "execute_result"
    }
   ],
   "source": [
    "type(v1)"
   ]
  },
  {
   "cell_type": "markdown",
   "id": "c5b396cb",
   "metadata": {},
   "source": [
    "### Sets"
   ]
  },
  {
   "cell_type": "code",
   "execution_count": 45,
   "id": "c1ad6922",
   "metadata": {},
   "outputs": [],
   "source": [
    "set1 = set()"
   ]
  },
  {
   "cell_type": "code",
   "execution_count": 60,
   "id": "43af97e7",
   "metadata": {},
   "outputs": [],
   "source": [
    "set1.remove(\"Hello\")"
   ]
  },
  {
   "cell_type": "code",
   "execution_count": 61,
   "id": "223d8dbc",
   "metadata": {},
   "outputs": [
    {
     "data": {
      "text/plain": [
       "{12, 34}"
      ]
     },
     "execution_count": 61,
     "metadata": {},
     "output_type": "execute_result"
    }
   ],
   "source": [
    "set1"
   ]
  },
  {
   "cell_type": "code",
   "execution_count": 62,
   "id": "0d807b63",
   "metadata": {},
   "outputs": [],
   "source": [
    "duplicates = [\"Hitesh\", \"Umesh\", \"Ram\", \"Tom\", \"rover\", \"Rummy\", \"Umesh\", \"Ram\", \"Tom\", \"rover\", \"Rummy\", \"Umesh\", \"Ram\", \"Tom\", \"rover\", \"Rummy\"]"
   ]
  },
  {
   "cell_type": "code",
   "execution_count": 63,
   "id": "43277754",
   "metadata": {},
   "outputs": [
    {
     "data": {
      "text/plain": [
       "list"
      ]
     },
     "execution_count": 63,
     "metadata": {},
     "output_type": "execute_result"
    }
   ],
   "source": [
    "type(duplicates)"
   ]
  },
  {
   "cell_type": "code",
   "execution_count": 69,
   "id": "fd1b67f7",
   "metadata": {},
   "outputs": [],
   "source": [
    "u = set(duplicates)"
   ]
  },
  {
   "cell_type": "code",
   "execution_count": 70,
   "id": "13ea379f",
   "metadata": {},
   "outputs": [
    {
     "data": {
      "text/plain": [
       "{'Hitesh', 'Ram', 'Rummy', 'Tom', 'Umesh', 'rover'}"
      ]
     },
     "execution_count": 70,
     "metadata": {},
     "output_type": "execute_result"
    }
   ],
   "source": [
    "u"
   ]
  },
  {
   "cell_type": "markdown",
   "id": "4e087740",
   "metadata": {},
   "source": [
    "#### frozenset\n",
    "\n",
    "The frozenset() function returns an immutable frozenset object initialized with elements from the given iterable.\n",
    "\n",
    "Frozen set is just an immutable version of a Python set object. While elements of a set can be modified at any time, elements of the frozen set remain the same after creation."
   ]
  },
  {
   "cell_type": "code",
   "execution_count": 67,
   "id": "5be5b8bd",
   "metadata": {},
   "outputs": [],
   "source": [
    "fs = frozenset(duplicates)"
   ]
  },
  {
   "cell_type": "code",
   "execution_count": 73,
   "id": "99492e1a",
   "metadata": {},
   "outputs": [
    {
     "data": {
      "text/plain": [
       "{'Hitesh', 'Ram', 'Rummy', 'Suresh', 'Tom', 'Umesh', 'rover'}"
      ]
     },
     "execution_count": 73,
     "metadata": {},
     "output_type": "execute_result"
    }
   ],
   "source": [
    "u.add(\"Suresh\")\n",
    "u"
   ]
  },
  {
   "cell_type": "code",
   "execution_count": 74,
   "id": "a6df6ff0",
   "metadata": {},
   "outputs": [
    {
     "ename": "AttributeError",
     "evalue": "'frozenset' object has no attribute 'add'",
     "output_type": "error",
     "traceback": [
      "\u001b[1;31m---------------------------------------------------------------------------\u001b[0m",
      "\u001b[1;31mAttributeError\u001b[0m                            Traceback (most recent call last)",
      "\u001b[1;32m<ipython-input-74-69641c861d45>\u001b[0m in \u001b[0;36m<module>\u001b[1;34m\u001b[0m\n\u001b[0;32m      1\u001b[0m \u001b[0mfs\u001b[0m\u001b[1;33m\u001b[0m\u001b[1;33m\u001b[0m\u001b[0m\n\u001b[1;32m----> 2\u001b[1;33m \u001b[0mfs\u001b[0m\u001b[1;33m.\u001b[0m\u001b[0madd\u001b[0m\u001b[1;33m(\u001b[0m\u001b[1;34m\"Suresh\"\u001b[0m\u001b[1;33m)\u001b[0m\u001b[1;33m\u001b[0m\u001b[1;33m\u001b[0m\u001b[0m\n\u001b[0m",
      "\u001b[1;31mAttributeError\u001b[0m: 'frozenset' object has no attribute 'add'"
     ]
    }
   ],
   "source": [
    "fs\n",
    "fs.add(\"Suresh\")"
   ]
  },
  {
   "cell_type": "code",
   "execution_count": 77,
   "id": "5c739658",
   "metadata": {},
   "outputs": [],
   "source": [
    "var1 = 5 > 6"
   ]
  },
  {
   "cell_type": "code",
   "execution_count": 78,
   "id": "66372a3b",
   "metadata": {},
   "outputs": [
    {
     "data": {
      "text/plain": [
       "bool"
      ]
     },
     "execution_count": 78,
     "metadata": {},
     "output_type": "execute_result"
    }
   ],
   "source": [
    "type(var1)"
   ]
  },
  {
   "cell_type": "code",
   "execution_count": 83,
   "id": "7a956911",
   "metadata": {},
   "outputs": [],
   "source": [
    "i = 0\n",
    "j = 1"
   ]
  },
  {
   "cell_type": "code",
   "execution_count": 84,
   "id": "671834ad",
   "metadata": {},
   "outputs": [],
   "source": [
    "k = i == j"
   ]
  },
  {
   "cell_type": "code",
   "execution_count": 86,
   "id": "07ce773a",
   "metadata": {},
   "outputs": [
    {
     "data": {
      "text/plain": [
       "False"
      ]
     },
     "execution_count": 86,
     "metadata": {},
     "output_type": "execute_result"
    }
   ],
   "source": [
    "k"
   ]
  },
  {
   "cell_type": "code",
   "execution_count": null,
   "id": "f8c6e9c4",
   "metadata": {},
   "outputs": [],
   "source": []
  }
 ],
 "metadata": {
  "kernelspec": {
   "display_name": "Python 3",
   "language": "python",
   "name": "python3"
  },
  "language_info": {
   "codemirror_mode": {
    "name": "ipython",
    "version": 3
   },
   "file_extension": ".py",
   "mimetype": "text/x-python",
   "name": "python",
   "nbconvert_exporter": "python",
   "pygments_lexer": "ipython3",
   "version": "3.8.8"
  }
 },
 "nbformat": 4,
 "nbformat_minor": 5
}
