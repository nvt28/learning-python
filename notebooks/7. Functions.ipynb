{
 "cells": [
  {
   "cell_type": "markdown",
   "id": "ad62a06b",
   "metadata": {},
   "source": [
    "### Functions\n",
    "\n",
    "A function is a block of code which only runs when it is called.\n",
    "You can pass data, known as parameters, into a function.\n",
    "A function can return data as a result."
   ]
  },
  {
   "cell_type": "code",
   "execution_count": 1,
   "id": "9355438e",
   "metadata": {},
   "outputs": [],
   "source": [
    "v1 = (1, 3, -2)"
   ]
  },
  {
   "cell_type": "code",
   "execution_count": 2,
   "id": "f0632f55",
   "metadata": {},
   "outputs": [
    {
     "data": {
      "text/plain": [
       "(1, 3, -2)"
      ]
     },
     "execution_count": 2,
     "metadata": {},
     "output_type": "execute_result"
    }
   ],
   "source": [
    "v1"
   ]
  },
  {
   "cell_type": "code",
   "execution_count": 4,
   "id": "b9feb1a2",
   "metadata": {},
   "outputs": [
    {
     "data": {
      "text/plain": [
       "'1i + 3j + -2k'"
      ]
     },
     "execution_count": 4,
     "metadata": {},
     "output_type": "execute_result"
    }
   ],
   "source": [
    "f\"{v1[0]}i + {v1[1]}j + {v1[2]}k\""
   ]
  },
  {
   "cell_type": "code",
   "execution_count": 20,
   "id": "96ab133f",
   "metadata": {},
   "outputs": [],
   "source": [
    "def vector_form(v: tuple):\n",
    "    if len(v) == 3:\n",
    "        return f\"{v[0]}i + {v[1]}j + {v[2]}k\"\n",
    "    elif len(v) == 2:\n",
    "        return f\"{v[0]}i + {v[1]}j + 0k\"\n",
    "    else:\n",
    "        return \"Invalid vector\""
   ]
  },
  {
   "cell_type": "code",
   "execution_count": 21,
   "id": "247a0430",
   "metadata": {},
   "outputs": [],
   "source": [
    "t1 = (2, 4, 6)\n",
    "t2 = (3, 5)"
   ]
  },
  {
   "cell_type": "code",
   "execution_count": 22,
   "id": "88a64e81",
   "metadata": {},
   "outputs": [],
   "source": [
    "vec1 = (3, -1, -2, 3)"
   ]
  },
  {
   "cell_type": "code",
   "execution_count": 23,
   "id": "995ed6ad",
   "metadata": {},
   "outputs": [
    {
     "data": {
      "text/plain": [
       "'Invalid vector'"
      ]
     },
     "execution_count": 23,
     "metadata": {},
     "output_type": "execute_result"
    }
   ],
   "source": [
    "vector_form(vec1)"
   ]
  },
  {
   "cell_type": "code",
   "execution_count": 26,
   "id": "ae151ba3",
   "metadata": {},
   "outputs": [],
   "source": [
    "#Representing matrix in Python\n",
    "\n",
    "mat1 = [[1, 2], [-1, 0], [2, 3]]"
   ]
  },
  {
   "cell_type": "code",
   "execution_count": 30,
   "id": "7024398f",
   "metadata": {},
   "outputs": [
    {
     "data": {
      "text/plain": [
       "2"
      ]
     },
     "execution_count": 30,
     "metadata": {},
     "output_type": "execute_result"
    }
   ],
   "source": [
    "mat1\n",
    "len(mat1[0])"
   ]
  },
  {
   "cell_type": "code",
   "execution_count": 35,
   "id": "371f9550",
   "metadata": {},
   "outputs": [],
   "source": [
    "def matrix_form(matrix: list):\n",
    "    row_length = len(matrix)\n",
    "    col_length = len(matrix[0])\n",
    "    \n",
    "    for i in range(row_length):\n",
    "        for j in range(col_length):\n",
    "            print(matrix[i][j], end  = \"\\t\")\n",
    "        print()"
   ]
  },
  {
   "cell_type": "code",
   "execution_count": 36,
   "id": "f93ad295",
   "metadata": {},
   "outputs": [
    {
     "name": "stdout",
     "output_type": "stream",
     "text": [
      "1\t2\t\n",
      "-1\t0\t\n",
      "2\t3\t\n"
     ]
    }
   ],
   "source": [
    "matrix_form(mat1)"
   ]
  },
  {
   "cell_type": "code",
   "execution_count": 51,
   "id": "0f063d15",
   "metadata": {},
   "outputs": [
    {
     "name": "stdout",
     "output_type": "stream",
     "text": [
      "0-1-2-3-4-5-6-7-8-9-"
     ]
    }
   ],
   "source": [
    "for i in range(10):\n",
    "    print(i, end = \"-\")"
   ]
  },
  {
   "cell_type": "code",
   "execution_count": 43,
   "id": "36f7807e",
   "metadata": {},
   "outputs": [
    {
     "name": "stdout",
     "output_type": "stream",
     "text": [
      "Hello\tWorld\n"
     ]
    }
   ],
   "source": [
    "print(\"Hello\\tWorld\")"
   ]
  },
  {
   "cell_type": "markdown",
   "id": "3cce645b",
   "metadata": {},
   "source": [
    "\\n -> newline\n",
    "\\t -> tab space"
   ]
  },
  {
   "cell_type": "code",
   "execution_count": 55,
   "id": "85011c45",
   "metadata": {},
   "outputs": [
    {
     "name": "stdout",
     "output_type": "stream",
     "text": [
      "Value of i = 0 \n",
      " Start of inner loop\n",
      "End of inner loop\n",
      "Value of i = 1 \n",
      " Start of inner loop\n",
      "1 0\n",
      "End of inner loop\n",
      "Value of i = 2 \n",
      " Start of inner loop\n",
      "2 0\n",
      "2 1\n",
      "End of inner loop\n",
      "Value of i = 3 \n",
      " Start of inner loop\n",
      "3 0\n",
      "3 1\n",
      "3 2\n",
      "End of inner loop\n",
      "Value of i = 4 \n",
      " Start of inner loop\n",
      "4 0\n",
      "4 1\n",
      "4 2\n",
      "4 3\n",
      "End of inner loop\n"
     ]
    }
   ],
   "source": [
    "for i in range(5):\n",
    "    print(f\"Value of i = {i} \\n Start of inner loop\")\n",
    "    for j in range(i):\n",
    "        print(i, j)\n",
    "    print(\"End of inner loop\")"
   ]
  },
  {
   "cell_type": "code",
   "execution_count": 54,
   "id": "5ebd2b61",
   "metadata": {},
   "outputs": [
    {
     "data": {
      "text/plain": [
       "range(0, 0)"
      ]
     },
     "execution_count": 54,
     "metadata": {},
     "output_type": "execute_result"
    }
   ],
   "source": [
    "range(0)"
   ]
  },
  {
   "cell_type": "code",
   "execution_count": null,
   "id": "22f7493b",
   "metadata": {},
   "outputs": [],
   "source": []
  }
 ],
 "metadata": {
  "kernelspec": {
   "display_name": "Python 3",
   "language": "python",
   "name": "python3"
  },
  "language_info": {
   "codemirror_mode": {
    "name": "ipython",
    "version": 3
   },
   "file_extension": ".py",
   "mimetype": "text/x-python",
   "name": "python",
   "nbconvert_exporter": "python",
   "pygments_lexer": "ipython3",
   "version": "3.8.8"
  }
 },
 "nbformat": 4,
 "nbformat_minor": 5
}
